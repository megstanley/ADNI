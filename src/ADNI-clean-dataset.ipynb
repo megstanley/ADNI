{
 "cells": [
  {
   "cell_type": "markdown",
   "metadata": {},
   "source": [
    "# Exploring the \"clean\" ADNI dataset using Pandas"
   ]
  },
  {
   "cell_type": "markdown",
   "metadata": {},
   "source": [
    "The \"clean\" ADNI dataset is the dataset for year 5 (i.e. 5 years after baseline) cleaned by Xiao (Gavin) Gao in the following way:\n",
    "1. Only data for a particular \"ADNI\" were used.\n",
    "    - Different versions of ADNI used different versions of freesurfer which, in turn, impacted how Intra Cranial Volume is calculated. It's hard to compare, therefore, data across ADNI datasets\n",
    "2. Some of the images are of very low quality so those are not considered (see `ADNI_123_V4.mat`).\n",
    "3. If volume of (how many?) regions increase between 2 visits, this data is also discarded since we expect attrophy to increase -- or stay constant -- within the period of 5 years."
   ]
  },
  {
   "cell_type": "markdown",
   "metadata": {},
   "source": [
    "Lets start by importing our useful libraries"
   ]
  },
  {
   "cell_type": "code",
   "execution_count": 1,
   "metadata": {},
   "outputs": [],
   "source": [
    "from scipy.io import loadmat\n",
    "import os\n",
    "import numpy as np\n",
    "from pathlib import Path\n",
    "import pandas as pd"
   ]
  },
  {
   "cell_type": "markdown",
   "metadata": {},
   "source": [
    "## Loading data in to dataframe"
   ]
  },
  {
   "cell_type": "markdown",
   "metadata": {},
   "source": [
    "Let's load the data into a pandas dataframe.\n",
    "First lets find the file."
   ]
  },
  {
   "cell_type": "code",
   "execution_count": 5,
   "metadata": {
    "collapsed": true
   },
   "outputs": [],
   "source": [
    "def path_to_file(filename):\n",
    "    '''\n",
    "    Returns path for file 'filename`. \n",
    "    Assumes file to be in the relative path: '../data/'\n",
    "    '''\n",
    "    here_dir    = os.path.dirname(os.path.realpath('__file__'))\n",
    "    par_dir = os.path.abspath(os.path.join(here_dir, os.pardir))\n",
    "    dataset_dir = os.path.join(par_dir, 'data',str(filename))\n",
    "    return dataset_dir"
   ]
  },
  {
   "cell_type": "code",
   "execution_count": 16,
   "metadata": {
    "collapsed": true
   },
   "outputs": [],
   "source": [
    "adni_5y = loadmat(path_to_file('vec_a2b_5y_clean.mat'))\n",
    "#get the proper matrix from the .mat file, ignoring metadata\n",
    "adni_5y = adni_5y['vec_a2b_5y']\n",
    "#transform into a pandas dataframe\n"
   ]
  },
  {
   "cell_type": "markdown",
   "metadata": {},
   "source": [
    "Let's take a look at what this data looks like. It is a list of dictionaries. "
   ]
  }
 ],
 "metadata": {
  "kernelspec": {
   "display_name": "py36-brain",
   "language": "python",
   "name": "py36-brain"
  },
  "language_info": {
   "codemirror_mode": {
    "name": "ipython",
    "version": 3
   },
   "file_extension": ".py",
   "mimetype": "text/x-python",
   "name": "python",
   "nbconvert_exporter": "python",
   "pygments_lexer": "ipython3",
   "version": "3.6.5"
  }
 },
 "nbformat": 4,
 "nbformat_minor": 2
}
