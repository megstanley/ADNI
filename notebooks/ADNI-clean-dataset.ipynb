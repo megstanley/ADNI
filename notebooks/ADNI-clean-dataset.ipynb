{
 "cells": [
  {
   "cell_type": "markdown",
   "metadata": {},
   "source": [
    "# Exploring the \"clean\" ADNI dataset using Pandas"
   ]
  },
  {
   "cell_type": "markdown",
   "metadata": {},
   "source": [
    "The \"clean\" ADNI dataset is the dataset for year 5 (i.e. 5 years after baseline) cleaned by Xiao (Gavin) Gao in the following way:\n",
    "1. Only particular \"ADNI\" datasers were used: ADNI-1, ADNI-GO, ADNI-2\n",
    "    - Different versions of ADNI used different versions of freesurfer which, in turn, impacted how Intra Cranial Volume is calculated.\n",
    "    - We use the average ICV for the first 3 years\n",
    "    - We also use the average volume per region calculated from the first 3 years\n",
    "2. Images that didn't pass the ADNI's quality control (QC) were not considered (see `ADNI_123_V4.mat`).\n",
    "3. If volume of a region increases by over 10% between 2 visits, volume is replaced by the upper limit (1.10x average) calculated before.\n",
    "4. Not yet done here but performed during Gavin's calculations: If more than 10 regions in the brain go over the threshold (volume increased more than 10%), this data is discarded."
   ]
  },
  {
   "cell_type": "markdown",
   "metadata": {},
   "source": [
    "Lets start by importing our useful libraries"
   ]
  },
  {
   "cell_type": "code",
   "execution_count": 1,
   "metadata": {},
   "outputs": [],
   "source": [
    "from scipy.io import loadmat\n",
    "import os\n",
    "import numpy as np\n",
    "from pathlib import Path\n",
    "import pandas as pd"
   ]
  },
  {
   "cell_type": "markdown",
   "metadata": {},
   "source": [
    "## Loading data in to dataframe"
   ]
  },
  {
   "cell_type": "markdown",
   "metadata": {},
   "source": [
    "Let's load the data into a pandas dataframe.\n",
    "First lets find the file."
   ]
  },
  {
   "cell_type": "code",
   "execution_count": 2,
   "metadata": {},
   "outputs": [],
   "source": [
    "def path_to_file(filename):\n",
    "    '''\n",
    "    Returns path for file 'filename`. \n",
    "    Assumes file to be in the relative path: '../data/'\n",
    "    '''\n",
    "    here_dir    = os.path.dirname(os.path.realpath('__file__'))\n",
    "    par_dir = os.path.abspath(os.path.join(here_dir, os.pardir))\n",
    "    dataset_dir = os.path.join(par_dir, 'data',str(filename))\n",
    "    return dataset_dir"
   ]
  },
  {
   "cell_type": "code",
   "execution_count": 3,
   "metadata": {},
   "outputs": [],
   "source": [
    "adni_5y = loadmat(path_to_file('vec_a2b_5y_clean.mat'))\n",
    "#get the proper matrix from the .mat file, ignoring metadata\n",
    "adni_5y = adni_5y['vec_a2b_5y']"
   ]
  },
  {
   "cell_type": "markdown",
   "metadata": {},
   "source": [
    "In order to make a dataframe, we'll need the name of each column in the adni_5y matrix.\n",
    "\n",
    "We have created a dictionary (`../data/dictionary.csv`) associating the column names to the column numbers they refer to. Let's use it to make a dataframe."
   ]
  },
  {
   "cell_type": "code",
   "execution_count": 4,
   "metadata": {},
   "outputs": [],
   "source": [
    "def make_dataframe(adni_matrix, dictionary_file):\n",
    "    \"\"\"makes panda dataframe from dictionary_file.\n",
    "\n",
    "    Args:\n",
    "       adni_5y (arr): numpy array with adni entries\n",
    "       dictionary_file (str): file with column names (in ./data/ directory).\n",
    "\n",
    "    Returns:\n",
    "        dataframe (pd dataframe)\n",
    "\n",
    "    \"\"\"\n",
    "   \n",
    "    def read_column_names_from_csv(dictionary_file):\n",
    "        \"\"\"Returns a dictionary of shape {column name: slice}.\n",
    "\n",
    "        Args:\n",
    "            dictionary_file (str): file with column names (in ./data/ directory).\n",
    "\n",
    "        Returns:\n",
    "            name_dict (dict): dictionary {column names: slice(column_begin, column_end, None)}\n",
    "\n",
    "        \"\"\"\n",
    "      \n",
    "        import csv\n",
    "        path = path_to_file(dictionary_file)\n",
    "        reader = csv.reader(open(path, 'r'))\n",
    "        name_dict = {}\n",
    "        for row in reader:\n",
    "            legend, column_numbers = row\n",
    "            column_numbers_list = column_numbers.split(':')\n",
    "            column_numbers_list = list(map(int, column_numbers_list))\n",
    "            column_slice = slice(column_numbers_list[0],column_numbers_list[1],None) if len(column_numbers_list) > 1 \\\n",
    "                else slice(column_numbers_list[0],column_numbers_list[0]+1,None)\n",
    "            name_dict[legend] = column_slice\n",
    "        return(name_dict)\n",
    "    \n",
    "    names_dict = read_column_names_from_csv(dictionary_file)\n",
    "    \n",
    "    dataframe = pd.DataFrame({k: [adni_matrix[i][slice] for i in range(len(adni_matrix))] \\\n",
    "                              for k, slice in zip(names_dict.keys(), names_dict.values())})\n",
    "    \n",
    "    #remove brackets from dataframe\n",
    "    for c in dataframe.columns:\n",
    "        if len(dataframe[c][0]) == 1:\n",
    "            dataframe[c] = dataframe[c].str[0]\n",
    "        \n",
    "    return(dataframe)"
   ]
  },
  {
   "cell_type": "markdown",
   "metadata": {},
   "source": [
    "Now we can use these column names to create a pandas dataframe:"
   ]
  },
  {
   "cell_type": "code",
   "execution_count": 5,
   "metadata": {},
   "outputs": [],
   "source": [
    "df = make_dataframe(adni_5y, 'dictionary_ADNI.csv')"
   ]
  },
  {
   "cell_type": "code",
   "execution_count": 6,
   "metadata": {},
   "outputs": [],
   "source": [
    "# df"
   ]
  },
  {
   "cell_type": "code",
   "execution_count": 7,
   "metadata": {},
   "outputs": [
    {
     "data": {
      "text/plain": [
       "Index(['ID', 'BaselineDx', '1yDx', 'End-of-studyDx', 'Baselineatrophy',\n",
       "       'Futureatrophy', 'GeneticInfo(APOE4)', 'blAge', 'gender',\n",
       "       'educationyear', 'marriage', 'blADAS11', 'blADAS13',\n",
       "       'blRAVLT_immediate', 'blRAVLT_learning', 'blRAVLT_forgetting',\n",
       "       'blRAVLT_perc_forgetting', 'blFAQ', 'blCDR', 'blMMSE', 'ftAge',\n",
       "       'ftADAS11', 'ftADAS13', 'ftRAVLT_immediate', 'ftRAVLT_learning',\n",
       "       'ftRAVLT_forgetting', 'ftRAVLT_perc_forgetting', 'ftFAQ', 'ftCDR',\n",
       "       'ftMMSE', 'blIntracranialVolume', 'ftIntracranialVolume',\n",
       "       'Baseline_Age', 'Future_Age', 'sum_volume_all_regions-baseline',\n",
       "       'sum_volume_all_regions-future',\n",
       "       'baseline_ICV / sum_volume_all_regions-baseline',\n",
       "       'baseline_ICV / sum_volume_all_regions-future',\n",
       "       'average_ICSV_first_3_visits', 'num_regions_over_upper_limit-baseline',\n",
       "       'num_regions_over_upper_limit-future', 'end-of-study-conversion',\n",
       "       'num_months_from_baseline'],\n",
       "      dtype='object')"
      ]
     },
     "execution_count": 7,
     "metadata": {},
     "output_type": "execute_result"
    }
   ],
   "source": [
    "df.columns"
   ]
  },
  {
   "cell_type": "markdown",
   "metadata": {},
   "source": [
    "Lets cound the number of unique patients:"
   ]
  },
  {
   "cell_type": "code",
   "execution_count": 8,
   "metadata": {},
   "outputs": [
    {
     "data": {
      "text/plain": [
       "96"
      ]
     },
     "execution_count": 8,
     "metadata": {},
     "output_type": "execute_result"
    }
   ],
   "source": [
    "df['ID'].nunique()"
   ]
  },
  {
   "cell_type": "markdown",
   "metadata": {},
   "source": [
    "Lets now group patients based on their ID and show the first occurence for each of them:"
   ]
  },
  {
   "cell_type": "code",
   "execution_count": 18,
   "metadata": {},
   "outputs": [
    {
     "data": {
      "text/plain": [
       "(86,)"
      ]
     },
     "execution_count": 18,
     "metadata": {},
     "output_type": "execute_result"
    }
   ],
   "source": [
    "df[['ID','Baselineatrophy']].groupby(df['ID']).aggregate('first')['Baselineatrophy'][42.0].shape"
   ]
  },
  {
   "cell_type": "code",
   "execution_count": null,
   "metadata": {},
   "outputs": [],
   "source": []
  }
 ],
 "metadata": {
  "kernelspec": {
   "display_name": "py37_brain",
   "language": "python",
   "name": "py37_brain"
  },
  "language_info": {
   "codemirror_mode": {
    "name": "ipython",
    "version": 3
   },
   "file_extension": ".py",
   "mimetype": "text/x-python",
   "name": "python",
   "nbconvert_exporter": "python",
   "pygments_lexer": "ipython3",
   "version": "3.7.3"
  }
 },
 "nbformat": 4,
 "nbformat_minor": 4
}
